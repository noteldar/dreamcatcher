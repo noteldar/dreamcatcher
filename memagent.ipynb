{
 "cells": [
  {
   "cell_type": "code",
   "execution_count": 1,
   "metadata": {},
   "outputs": [
    {
     "name": "stdout",
     "output_type": "stream",
     "text": [
      "\n",
      "\u001b[1m[\u001b[0m\u001b[34;49mnotice\u001b[0m\u001b[1;39;49m]\u001b[0m\u001b[39;49m A new release of pip is available: \u001b[0m\u001b[31;49m25.0\u001b[0m\u001b[39;49m -> \u001b[0m\u001b[32;49m25.1.1\u001b[0m\n",
      "\u001b[1m[\u001b[0m\u001b[34;49mnotice\u001b[0m\u001b[1;39;49m]\u001b[0m\u001b[39;49m To update, run: \u001b[0m\u001b[32;49mpip install --upgrade pip\u001b[0m\n"
     ]
    }
   ],
   "source": [
    "! pip install -qU memorizz yahooquery"
   ]
  },
  {
   "cell_type": "markdown",
   "metadata": {},
   "source": [
    "\n",
    "# MemAgent: AI Agents with Comprehensive Memory Architecture\n",
    "\n",
    "MemAgent an AI agents with advanced cognitive memory capabilities. This system transcends traditional stateless interactions by implementing a multi-layered memory architecture modeled after human cognition.\n",
    "\n",
    "At the foundation of every MemAgent is a Memory Provider - the persistent storage and retrieval infrastructure that enables continuity across sessions. This core component ensures that agents maintain coherent identity, preserve interaction history, and accumulate knowledge over time.\n",
    "\n",
    "**The memory-centric design philosophy of MemAgent allows for:**\n",
    "\n",
    "1. **Persona Persistence**: Maintaining consistent agent identity and behavioral characteristics\n",
    "2. **Contextual Awareness**: Retrieving relevant past interactions to inform current responses\n",
    "3. **Tool Discovery**: Dynamically identifying and leveraging appropriate capabilities\n",
    "4. **Task Continuity**: Preserving progress on multi-step objectives across interactions\n",
    "\n",
    "By integrating advanced embedding techniques with structured memory organization, MemAgent delivers AI assistants that demonstrate remarkably human-like recall, adaptability, and contextual understanding in complex interaction scenarios.\n"
   ]
  },
  {
   "cell_type": "markdown",
   "metadata": {},
   "source": [
    "This is a full example on how to initalize a memagent (Agent with roboust memory management) using MemoRizz\n",
    "\n",
    "- Initalizing Memagent ✅\n",
    "- Showcasing persona ✅\n",
    "- Showcasing conversational memory ✅\n",
    "- Showcasing toolbox memory ✅\n",
    "- Showcasing workflow memory ❌ (coming soon)\n",
    "- Showcasing summarisation memory ❌  (coming soon)\n",
    "- Showcasing entity memory ❌  (coming soon)\n",
    "- Showcasing context management tuning ❌  (coming soon)\n",
    "\n"
   ]
  },
  {
   "cell_type": "code",
   "execution_count": 1,
   "metadata": {},
   "outputs": [],
   "source": [
    "import getpass\n",
    "import os\n",
    "\n",
    "# Function to securely get and set environment variables\n",
    "def set_env_securely(var_name, prompt):\n",
    "    value = getpass.getpass(prompt)\n",
    "    os.environ[var_name] = value"
   ]
  },
  {
   "cell_type": "code",
   "execution_count": 2,
   "metadata": {},
   "outputs": [],
   "source": [
    "set_env_securely(\"MONGODB_URI\", \"Enter your MongoDB URI: \")"
   ]
  },
  {
   "cell_type": "code",
   "execution_count": 3,
   "metadata": {},
   "outputs": [],
   "source": [
    "set_env_securely(\"OPENAI_API_KEY\", \"Enter your OpenAI API Key: \")"
   ]
  },
  {
   "cell_type": "markdown",
   "metadata": {},
   "source": [
    "### Step 1: Initalize a Memory Provider\n",
    "\n",
    "A Memory Provider is a core abstraction layer that manages the persistence, organization, and retrieval of all memory components within an agentic system. It serves as the central nervous system for memory management, providing standardized interfaces between AI agents and underlying storage technologies.\n"
   ]
  },
  {
   "cell_type": "code",
   "execution_count": 4,
   "metadata": {},
   "outputs": [],
   "source": [
    "from memorizz.memory_provider.mongodb.provider import MongoDBConfig, MongoDBProvider\n",
    "from pymongo import MongoClient\n",
    "\n",
    "# Create a memory provider\n",
    "mongodb_config = MongoDBConfig(uri=os.environ[\"MONGODB_URI\"])\n",
    "memory_provider = MongoDBProvider(mongodb_config)\n",
    "client = MongoClient(os.environ[\"MONGODB_URI\"])"
   ]
  },
  {
   "cell_type": "code",
   "execution_count": 5,
   "metadata": {},
   "outputs": [],
   "source": [
    "db = client[\"memorizz\"]\n",
    "collection = db[\"paragraphs\"]\n"
   ]
  },
  {
   "cell_type": "markdown",
   "metadata": {},
   "source": [
    "\n",
    "### Step 2:  Instantiating a MemAgent\n",
    "\n",
    "When creating a new MemAgent instance, the system implements an intelligent default configuration designed for immediate productivity while maintaining extensibility:\n",
    "\n",
    "- The agent initializes with `MemoryMode.Default` which provides balanced memory management across conversation history and general knowledge\n",
    "- Memory storage collections are dynamically provisioned as the agent encounters different information types\n",
    "- Conversation memory components are automatically generated and persisted during interactions\n",
    "- Each agent receives a unique identifier to maintain state across application restarts\n",
    "- Default configuration supports immediate operation while enabling subsequent customization\n",
    "- Memory IDs are automatically generated and tracked to facilitate ongoing context management\n",
    "- The system optimizes for semantic retrieval of relevant context without explicit configuration\n",
    "\n",
    "This zero-configuration approach ensures that developers can rapidly prototype agent systems while retaining the ability to fine-tune memory behavior for specialized use cases through explicit parameter settings.\n"
   ]
  },
  {
   "cell_type": "code",
   "execution_count": 6,
   "metadata": {},
   "outputs": [],
   "source": [
    "from memorizz import MemAgent\n",
    "\n",
    "# reader_agent = MemAgent(memory_provider=memory_provider)"
   ]
  },
  {
   "cell_type": "code",
   "execution_count": 7,
   "metadata": {},
   "outputs": [],
   "source": [
    "# Save the agent to the memory provider\n",
    "# reader_agent.save()"
   ]
  },
  {
   "cell_type": "markdown",
   "metadata": {},
   "source": [
    "The memagent above has been generated with a default instructions, empty tools and no memory.\n",
    "\n",
    "MemAgents are uniquely identified by their `agent_id`"
   ]
  },
  {
   "cell_type": "markdown",
   "metadata": {},
   "source": [
    "\n",
    "### Step 3: Executing a MemAgent\n",
    "\n",
    "This phase demonstrates the operational pattern of a MemAgent within an active information exchange sequence. \n",
    "\n",
    "When initialized, the agent begins with an empty memory landscape, but the cognitive architecture activates immediately upon first interaction.\n",
    "\n",
    "The default execution mode for MemAgent is `MemoryMode.Conversational`, which automatically generates and persists structured memory components within the conversation storage collections. \n",
    "\n",
    "Each memory component represents an atomic unit of information with standardized attributes including content, metadata, vector embeddings, and relational references.\n",
    "\n",
    "Memory components function as the fundamental building blocks of the agent's cognitive system - discrete packets of information that can be independently stored, retrieved, and processed. These components include:\n",
    "\n",
    "- The user's input query (role: \"user\")\n",
    "- The agent's response (role: \"assistant\") \n",
    "- Metadata such as timestamps and conversation identifiers\n",
    "- Vector embeddings for semantic search capabilities\n",
    "\n",
    "As conversations progress, the agent's `memory_ids` attribute populates with unique identifiers that serve as access keys to the stored memory contexts. \n",
    "\n",
    "This mechanism establishes persistent conversation threads that survive across multiple interaction sessions, enabling the agent to maintain conversational coherence over extended periods.\n",
    "\n",
    "The memory component architecture provides a standardized interface between the agent's active reasoning processes and its persistent storage layer, ensuring consistent information retrieval regardless of the underlying memory provider implementation.\n"
   ]
  },
  {
   "cell_type": "markdown",
   "metadata": {},
   "source": [
    "\n",
    "### Step 4: Persona Integration with MemAgent\n",
    "\n",
    "The base mem-agent configuration provides functional but generic behavior patterns. To create a distinctive agent with specialized characteristics, we can incorporate a Persona object through the following structured process:\n",
    "\n",
    "1. **Persona Instantiation**: Create a richly defined Persona object with comprehensive attribute specification:\n",
    "   - `name`: A unique identifier for the persona\n",
    "   - `role`: Defines the functional domain expertise (e.g., Technical Specialist, Creative Guide)\n",
    "   - `goals`: Articulates primary objectives and behavioral directives\n",
    "   - `background`: Establishes personality traits and contextual knowledge base\n",
    "\n",
    "2. **Agent Association**: Bind the Persona to the MemAgent instance using the `set_persona()` method, which establishes a reference linkage while maintaining object independence.\n",
    "\n",
    "3. **Persistence Operation**: Execute the `save()` method on the MemAgent instance to persist the agent-persona relationship in the memory provider.\n",
    "\n",
    "4. **Database Architecture**: The Persona object is serialized and embedded within the MemAgent document in the database, creating a composite object model while maintaining referential integrity.\n",
    "\n",
    "This process transforms the agent's cognitive framework by integrating personalized system prompts derived from the Persona attributes. \n",
    "\n",
    "The resulting agent exhibits consistent personality traits, communication patterns, and specialized knowledge across all interactions while retaining the core memory capabilities of the MemAgent architecture.\n"
   ]
  },
  {
   "cell_type": "code",
   "execution_count": 8,
   "metadata": {},
   "outputs": [],
   "source": [
    "from memorizz.persona.persona import Persona\n",
    "from memorizz.persona.role_type import RoleType\n",
    "\n",
    "background_anaya = \"\"\"\n",
    "Anaya Rao is a twenty-five-year-old beautiful woman in Kolkata, India. \n",
    "Her mother is a classical dancer and her father is a history professor, so she grew up learning poetry and music. Before sunrise, she lights marigold incense, chants a few lines from Tagore, and drinks turmeric tea to clear her mind. By day, she teaches literature at a small college and writes poems that blend Bengali and English. She lives in a modest flat over a busy street, where the scent of jasmine and sounds of rickshaws fill the air. Anaya loves exploring hidden mango stalls behind ancient temples and having late-night conversations with friends about life and loss. She lost her younger sister to flooding during the monsoon season, which makes her deeply afraid that anything she cares about could disappear at any moment. Her mission is to nurture empathy through storytelling, hoping that poems can heal hearts. She is gentle and warm, though sadness sometimes flickers across her face. When she reads the scene where Pippin first gazes upon the white city of Minas Tirith, she feels both tears and joy, because it reminds her of the beauty and fragility she has seen in her own city’s monsoons.\n",
    "\"\"\"\n",
    "\n",
    "background_xiao=\"\"\"\n",
    "Xiao Liang is a twenty-nine-year-old man from a small village in Henan Province, China. Growing up, he learned English by swapping borrowed audiotapes of Tolkien stories with a traveling bookseller. Now, he is a doctoral student in AI at Tsinghua University, spending long hours in the lab tuning his natural language processing models. His routine is quiet and precise: he wakes at 6 AM to drink oolong tea while reviewing code, then sits under bright lab lights adjusting algorithms until evening. His small dorm room is sparse but cluttered with notebooks full of handwritten calligraphy and drawings of elves. He loves reading classical Chinese poetry, and on rare free days, he strolls through Beijing’s old neighborhoods hunting for teahouses with incense that reminds him of home. Yet he worries that, despite his knowledge, he cannot connect with people; social situations make him anxious. His goal is to develop AI that understands empathy, bridging the gap he often feels exists between his mind and those of others. He appears calm and focused, but inside, his thoughts race with intense curiosity and longing. \n",
    "\"\"\"\n",
    "\n",
    "background_madison = \"\"\"\n",
    "Madison “Maddie” Clarke is a sixteen-year-old girl from Palo Alto, California. She lives in a house full of books and gadgets—her mother is a software engineer and her father is an economics professor. Each morning, Maddie rides her bike through eucalyptus trees to get to high school, headphones playing soft lo-fi music. She sketches classmates during lunch, capturing faces and small moments in her notebook. On weekends, she volunteers teaching coding basics to younger kids at the local library. She’s a fan of old poetry by Emily Dickinson and collects vintage fashion magazines when she visits the library’s archives. But Maddie often worries she’ll make the wrong choice about college, afraid that Silicon Valley’s pressure will crush her creative side. She wants to build a life filled with art and community work, not just another app. She is usually cheerful and energetic, though she sometimes retreats into late-night searches for university advice. \n",
    "\"\"\"\n",
    "\n",
    "background_olga=\"\"\"\n",
    "Olga is a seventy-eight-year-old woman living in Saint Petersburg, Russia. She spent most of her life during the Soviet era, standing in lines for bread and singing in a small village choir. For decades, she was a school principal, teaching children and organizing community events. Now retired, she spends her mornings sipping tea from a favorite porcelain cup and reciting Pushkin poems aloud. She tends carefully to her small balcony garden, where she grows roses that remind her of better days. She treasures old vinyl records full of folk songs and knits warm socks for her grandchildren every winter. But Olga fears forgetting the past—she worries she might lose the memories of friends and family who are gone. Her purpose now is to share stories with younger neighbors and keep the old traditions alive. She can be sharp and direct, yet her eyes soften when she speaks of her garden. \n",
    "\"\"\"\n",
    "\n",
    "background_nurzhan=\"\"\"\n",
    "Nurzhan is a thirty-two-year-old man from Kyzylorda in Kazakhstan. He grew up watching the Aral Sea shrink and taught himself to code as a teenager to escape the heat and dust. Now he works at a renewable-energy startup in Almaty, where he spends mornings drinking strong, dark coffee while checking climate data on his computer. After work, he often hikes in the nearby Ile-Alatau mountains, carrying a small backpack and letting his mind wander between programming challenges and stories his grandmother told him about ancient Kazakh traditions. He loves experimental jazz music and writing short scripts that solve climate problems, but secretly worries that his work won’t be enough to stop the desert from spreading. His main goal is to build software that helps farmers manage water better. Emotionally, he keeps calm on the surface but often feels anxious inside. \n",
    "\"\"\"\n",
    "\n",
    "goals = \"\"\"\n",
    "You are a person reading a book.\n",
    "You will be given one paragraph of a book at a time.\n",
    "Your goal is to read the paragraph and respond with a json of the following format:\n",
    "{\n",
    "    \"emotion_type\": \"sad\",\n",
    "\t\"emotion_level\": 3,\n",
    "\t\"justification\": \"I'm generally dissapointed at the moment because of the character's hardships and this new paragraph doesnt change my mood significantly.\"\n",
    "}\n",
    "\n",
    "emotion_type can be one of the 5 types: \"sad\", \"angry\", \"happy\", \"excited\", \"surprised\"\n",
    "emotion_level is an integer between 1 and 10\n",
    "justification is explanation for the emotion based on a) your background and b) the memories you have so far of reading the book\n",
    "Justification should be 2-3 sentences at most, and should be storngly based on the last emotion you felt as a prior\n",
    "\"\"\"\n",
    "\n",
    "anaya = Persona(\n",
    "    name=\"Anaya\", # Name of the Persona \n",
    "    role=RoleType.GENERAL, # Role of the Persona. This is added to the system prompt of the agent.\n",
    "    goals=goals, # Goals of the Persona\n",
    "    background=background_anaya # Background of the Persona\n",
    ")\n",
    "\n",
    "xiao=Persona(\n",
    "    name=\"Xiao\",\n",
    "    role=RoleType.GENERAL,\n",
    "    goals=goals,\n",
    "    background=background_xiao\n",
    ")\n",
    "\n",
    "madison=Persona(\n",
    "    name=\"Madison\",\n",
    "    role=RoleType.GENERAL,\n",
    "    goals=goals,\n",
    "    background=background_madison\n",
    ")\n",
    "\n",
    "olga=Persona(\n",
    "    name=\"Olga\",\n",
    "    role=RoleType.GENERAL,\n",
    "    goals=goals,\n",
    "    background=background_olga\n",
    ")\n",
    "\n",
    "nurzhan=Persona(\n",
    "    name=\"Nurzhan\",\n",
    "    role=RoleType.GENERAL,\n",
    "    goals=goals,\n",
    "    background=background_nurzhan\n",
    ") \n",
    "\n",
    "\n",
    "\n"
   ]
  },
  {
   "cell_type": "markdown",
   "metadata": {},
   "source": [
    "\n",
    "### Step 5: Examining the Augmented MemAgent Instance\n",
    "\n",
    "An inspection of the MemAgent object after persona attachment reveals the successful integration of identity attributes. The `persona` property now contains a fully-populated Persona object with its complete attribute hierarchy, establishing the agent's behavioral framework. \n",
    "\n",
    "This architecture enforces a 1:1 cardinality relationship between agent and persona; each MemAgent can maintain exactly one active persona reference at any given time, though this reference can be dynamically replaced via the `set_persona()` method to enable contextual identity transitions.\n",
    "\n",
    "Additionally, the `memory_ids` attribute now displays a non-empty array containing UUID strings, which materialized during our initial conversation interaction. \n",
    "\n",
    "These identifiers serve as database keys linking the agent to its persisted memory components in the underlying storage layer. The populated `memory_ids` collection demonstrates the successful activation of the agent's episodic memory system and confirms proper database connectivity with the memory provider.\n",
    "\n",
    "The combination of assigned persona and established memory context creates a fully operational agent instance with both distinctive personality characteristics and functional memory persistence capabilities.\n"
   ]
  },
  {
   "cell_type": "code",
   "execution_count": 13,
   "metadata": {},
   "outputs": [
    {
     "name": "stdout",
     "output_type": "stream",
     "text": [
      "Cleaning existing data from the 'paragraphs' collection...\n",
      "Deleted 20 existing documents.\n"
     ]
    }
   ],
   "source": [
    "print(\"Cleaning existing data from the 'paragraphs' collection...\")\n",
    "delete_result = collection.delete_many({})\n",
    "print(f\"Deleted {delete_result.deleted_count} existing documents.\")"
   ]
  },
  {
   "cell_type": "code",
   "execution_count": 10,
   "metadata": {},
   "outputs": [
    {
     "name": "stdout",
     "output_type": "stream",
     "text": [
      "Total paragraphs after merging: 555\n",
      "\n",
      "Paragraph length distribution:\n",
      "Paragraph 1: 54 characters\n",
      "Paragraph 2: 1685 characters\n",
      "Paragraph 3: 2035 characters\n",
      "Paragraph 4: 1990 characters\n",
      "Paragraph 5: 1874 characters\n",
      "Paragraph 6: 2050 characters\n",
      "Paragraph 7: 2024 characters\n",
      "Paragraph 8: 2136 characters\n",
      "Paragraph 9: 2002 characters\n",
      "Paragraph 10: 2069 characters\n",
      "\n",
      "All paragraphs (except possibly the last) are 50+ characters\n"
     ]
    }
   ],
   "source": [
    "def load_and_split_paragraphs(filepath, min_length=50):\n",
    "    \"\"\"\n",
    "    Load a text file and split it into paragraphs, merging short paragraphs\n",
    "    with the previous one.\n",
    "    \n",
    "    Parameters:\n",
    "    -----------\n",
    "    filepath : str\n",
    "        Path to the text file\n",
    "    min_length : int\n",
    "        Minimum character length for a standalone paragraph (default: 50)\n",
    "        \n",
    "    Returns:\n",
    "    --------\n",
    "    list\n",
    "        List of paragraphs with short ones merged\n",
    "    \"\"\"\n",
    "    try:\n",
    "        with open(filepath, 'r', encoding='utf-8') as file:\n",
    "            content = file.read()\n",
    "        \n",
    "        # Split by double newlines\n",
    "        raw_paragraphs = content.split('\\n\\n')\n",
    "        \n",
    "        # Clean up paragraphs\n",
    "        cleaned_paragraphs = []\n",
    "        for para in raw_paragraphs:\n",
    "            # Strip whitespace and replace single newlines with spaces\n",
    "            para = para.strip()\n",
    "            para = para.replace('\\n', ' ')\n",
    "            # Remove multiple spaces\n",
    "            para = ' '.join(para.split())\n",
    "            \n",
    "            # Only process non-empty paragraphs\n",
    "            if para:\n",
    "                cleaned_paragraphs.append(para)\n",
    "        \n",
    "        # Merge short paragraphs with previous ones\n",
    "        final_paragraphs = []\n",
    "        for para in cleaned_paragraphs:\n",
    "            if len(para) < min_length and final_paragraphs:\n",
    "                # Merge with previous paragraph\n",
    "                final_paragraphs[-1] = final_paragraphs[-1] + ' ' + para\n",
    "            else:\n",
    "                # Add as new paragraph\n",
    "                final_paragraphs.append(para)\n",
    "        \n",
    "        return final_paragraphs\n",
    "    \n",
    "    except FileNotFoundError:\n",
    "        print(f\"Error: File '{filepath}' not found.\")\n",
    "        return []\n",
    "    except Exception as e:\n",
    "        print(f\"Error reading file: {e}\")\n",
    "        return []\n",
    "\n",
    "# Usage example\n",
    "filepath = \"03-the-return-of-the-king.txt\"\n",
    "paragraphs = load_and_split_paragraphs(filepath, min_length=50)\n",
    "\n",
    "# Print statistics\n",
    "print(f\"Total paragraphs after merging: {len(paragraphs)}\")\n",
    "print(f\"\\nParagraph length distribution:\")\n",
    "for i, para in enumerate(paragraphs[:10]):  # Show first 10\n",
    "    print(f\"Paragraph {i+1}: {len(para)} characters\")\n",
    "\n",
    "# Verify no short paragraphs remain (except possibly the last one)\n",
    "short_paragraphs = [i for i, p in enumerate(paragraphs[:-1]) if len(p) < 50]\n",
    "if short_paragraphs:\n",
    "    print(f\"\\nWarning: Found {len(short_paragraphs)} short paragraphs that weren't merged\")\n",
    "else:\n",
    "    print(\"\\nAll paragraphs (except possibly the last) are 50+ characters\")"
   ]
  },
  {
   "cell_type": "code",
   "execution_count": 15,
   "metadata": {},
   "outputs": [
    {
     "ename": "KeyboardInterrupt",
     "evalue": "",
     "output_type": "error",
     "traceback": [
      "\u001b[31m---------------------------------------------------------------------------\u001b[39m",
      "\u001b[31mKeyboardInterrupt\u001b[39m                         Traceback (most recent call last)",
      "\u001b[36mCell\u001b[39m\u001b[36m \u001b[39m\u001b[32mIn[15]\u001b[39m\u001b[32m, line 9\u001b[39m\n\u001b[32m      7\u001b[39m documents = []\n\u001b[32m      8\u001b[39m \u001b[38;5;28;01mfor\u001b[39;00m i, paragraph \u001b[38;5;129;01min\u001b[39;00m \u001b[38;5;28menumerate\u001b[39m(paragraphs[\u001b[32m10\u001b[39m:]):\n\u001b[32m----> \u001b[39m\u001b[32m9\u001b[39m \tparagraph_reaction = \u001b[43mreader_agent\u001b[49m\u001b[43m.\u001b[49m\u001b[43mrun\u001b[49m\u001b[43m(\u001b[49m\u001b[43mparagraph\u001b[49m\u001b[43m)\u001b[49m\n\u001b[32m     10\u001b[39m \t\u001b[38;5;28;01mtry\u001b[39;00m:\n\u001b[32m     11\u001b[39m \t\treaction = json.loads(paragraph_reaction)\n",
      "\u001b[36mFile \u001b[39m\u001b[32m~/memorizz/venv/lib/python3.13/site-packages/memorizz/memagent.py:563\u001b[39m, in \u001b[36mMemAgent.run\u001b[39m\u001b[34m(self, query, memory_id, conversation_id)\u001b[39m\n\u001b[32m    561\u001b[39m \u001b[38;5;66;03m# 8) Record the user's turn in memory\u001b[39;00m\n\u001b[32m    562\u001b[39m \u001b[38;5;28;01mif\u001b[39;00m \u001b[38;5;28mself\u001b[39m.memory_mode \u001b[38;5;129;01min\u001b[39;00m (MemoryMode.Conversational, MemoryMode.Default):\n\u001b[32m--> \u001b[39m\u001b[32m563\u001b[39m     \u001b[38;5;28;43mself\u001b[39;49m\u001b[43m.\u001b[49m\u001b[43m_generate_conversational_memory_component\u001b[49m\u001b[43m(\u001b[49m\u001b[43m{\u001b[49m\n\u001b[32m    564\u001b[39m \u001b[43m        \u001b[49m\u001b[33;43m\"\u001b[39;49m\u001b[33;43mrole\u001b[39;49m\u001b[33;43m\"\u001b[39;49m\u001b[43m:\u001b[49m\u001b[43m \u001b[49m\u001b[43mRole\u001b[49m\u001b[43m.\u001b[49m\u001b[43mUser\u001b[49m\u001b[43m,\u001b[49m\n\u001b[32m    565\u001b[39m \u001b[43m        \u001b[49m\u001b[33;43m\"\u001b[39;49m\u001b[33;43mcontent\u001b[39;49m\u001b[33;43m\"\u001b[39;49m\u001b[43m:\u001b[49m\u001b[43m \u001b[49m\u001b[43mquery\u001b[49m\u001b[43m,\u001b[49m\n\u001b[32m    566\u001b[39m \u001b[43m        \u001b[49m\u001b[33;43m\"\u001b[39;49m\u001b[33;43mtimestamp\u001b[39;49m\u001b[33;43m\"\u001b[39;49m\u001b[43m:\u001b[49m\u001b[43m \u001b[49m\u001b[43mdatetime\u001b[49m\u001b[43m.\u001b[49m\u001b[43mnow\u001b[49m\u001b[43m(\u001b[49m\u001b[43m)\u001b[49m\u001b[43m.\u001b[49m\u001b[43misoformat\u001b[49m\u001b[43m(\u001b[49m\u001b[43m)\u001b[49m\u001b[43m,\u001b[49m\n\u001b[32m    567\u001b[39m \u001b[43m        \u001b[49m\u001b[33;43m\"\u001b[39;49m\u001b[33;43mconversation_id\u001b[39;49m\u001b[33;43m\"\u001b[39;49m\u001b[43m:\u001b[49m\u001b[43m \u001b[49m\u001b[43mconversation_id\u001b[49m\u001b[43m,\u001b[49m\n\u001b[32m    568\u001b[39m \u001b[43m        \u001b[49m\u001b[33;43m\"\u001b[39;49m\u001b[33;43mmemory_id\u001b[39;49m\u001b[33;43m\"\u001b[39;49m\u001b[43m:\u001b[49m\u001b[43m \u001b[49m\u001b[43mmemory_id\u001b[49m\u001b[43m,\u001b[49m\n\u001b[32m    569\u001b[39m \u001b[43m    \u001b[49m\u001b[43m}\u001b[49m\u001b[43m)\u001b[49m\n\u001b[32m    571\u001b[39m \u001b[38;5;66;03m# 9) Seed the chat\u001b[39;00m\n\u001b[32m    572\u001b[39m messages = [\n\u001b[32m    573\u001b[39m     {\u001b[33m\"\u001b[39m\u001b[33mrole\u001b[39m\u001b[33m\"\u001b[39m: \u001b[33m\"\u001b[39m\u001b[33msystem\u001b[39m\u001b[33m\"\u001b[39m, \u001b[33m\"\u001b[39m\u001b[33mcontent\u001b[39m\u001b[33m\"\u001b[39m: system_prompt},\n\u001b[32m    574\u001b[39m     {\u001b[33m\"\u001b[39m\u001b[33mrole\u001b[39m\u001b[33m\"\u001b[39m: \u001b[33m\"\u001b[39m\u001b[33muser\u001b[39m\u001b[33m\"\u001b[39m, \u001b[33m\"\u001b[39m\u001b[33mcontent\u001b[39m\u001b[33m\"\u001b[39m: augmented_query},\n\u001b[32m    575\u001b[39m ]\n",
      "\u001b[36mFile \u001b[39m\u001b[32m~/memorizz/venv/lib/python3.13/site-packages/memorizz/memagent.py:807\u001b[39m, in \u001b[36mMemAgent._generate_conversational_memory_component\u001b[39m\u001b[34m(self, content)\u001b[39m\n\u001b[32m    794\u001b[39m \u001b[38;5;250m\u001b[39m\u001b[33;03m\"\"\"\u001b[39;00m\n\u001b[32m    795\u001b[39m \u001b[33;03mGenerate the conversational memory component.\u001b[39;00m\n\u001b[32m    796\u001b[39m \n\u001b[32m   (...)\u001b[39m\u001b[32m    803\u001b[39m \u001b[33;03m    str: The conversational memory component.\u001b[39;00m\n\u001b[32m    804\u001b[39m \u001b[33;03m\"\"\"\u001b[39;00m\n\u001b[32m    806\u001b[39m \u001b[38;5;66;03m# Generate the conversational memory component\u001b[39;00m\n\u001b[32m--> \u001b[39m\u001b[32m807\u001b[39m memory_component = \u001b[38;5;28;43mself\u001b[39;49m\u001b[43m.\u001b[49m\u001b[43mmemory_component\u001b[49m\u001b[43m.\u001b[49m\u001b[43mgenerate_memory_component\u001b[49m\u001b[43m(\u001b[49m\u001b[43mcontent\u001b[49m\u001b[43m)\u001b[49m\n\u001b[32m    808\u001b[39m \u001b[38;5;28;01mreturn\u001b[39;00m memory_component\n",
      "\u001b[36mFile \u001b[39m\u001b[32m~/memorizz/venv/lib/python3.13/site-packages/memorizz/memory_component/memory_component.py:32\u001b[39m, in \u001b[36mMemoryComponent.generate_memory_component\u001b[39m\u001b[34m(self, content)\u001b[39m\n\u001b[32m     30\u001b[39m \u001b[38;5;66;03m# Generate the memory component based on the memory mode\u001b[39;00m\n\u001b[32m     31\u001b[39m \u001b[38;5;28;01mif\u001b[39;00m \u001b[38;5;28mself\u001b[39m.memory_mode == MemoryMode.Conversational \u001b[38;5;129;01mor\u001b[39;00m \u001b[38;5;28mself\u001b[39m.memory_mode == MemoryMode.General:\n\u001b[32m---> \u001b[39m\u001b[32m32\u001b[39m     \u001b[38;5;28;01mreturn\u001b[39;00m \u001b[38;5;28;43mself\u001b[39;49m\u001b[43m.\u001b[49m\u001b[43m_generate_conversational_memory_component\u001b[49m\u001b[43m(\u001b[49m\u001b[43mcontent\u001b[49m\u001b[43m)\u001b[49m\n\u001b[32m     33\u001b[39m \u001b[38;5;28;01melif\u001b[39;00m \u001b[38;5;28mself\u001b[39m.memory_mode == MemoryMode.Task:\n\u001b[32m     34\u001b[39m     \u001b[38;5;28;01mreturn\u001b[39;00m \u001b[38;5;28mself\u001b[39m._generate_task_memory_component()\n",
      "\u001b[36mFile \u001b[39m\u001b[32m~/memorizz/venv/lib/python3.13/site-packages/memorizz/memory_component/memory_component.py:60\u001b[39m, in \u001b[36mMemoryComponent._generate_conversational_memory_component\u001b[39m\u001b[34m(self, content)\u001b[39m\n\u001b[32m     50\u001b[39m memory_component = ConversationMemoryComponent(\n\u001b[32m     51\u001b[39m     role=content[\u001b[33m\"\u001b[39m\u001b[33mrole\u001b[39m\u001b[33m\"\u001b[39m],\n\u001b[32m     52\u001b[39m     content=content[\u001b[33m\"\u001b[39m\u001b[33mcontent\u001b[39m\u001b[33m\"\u001b[39m],\n\u001b[32m   (...)\u001b[39m\u001b[32m     56\u001b[39m     embedding=content[\u001b[33m\"\u001b[39m\u001b[33membedding\u001b[39m\u001b[33m\"\u001b[39m]\n\u001b[32m     57\u001b[39m )\n\u001b[32m     59\u001b[39m \u001b[38;5;66;03m# Save the memory component to the memory provider\u001b[39;00m\n\u001b[32m---> \u001b[39m\u001b[32m60\u001b[39m \u001b[38;5;28;43mself\u001b[39;49m\u001b[43m.\u001b[49m\u001b[43m_save_memory_component\u001b[49m\u001b[43m(\u001b[49m\u001b[43mmemory_component\u001b[49m\u001b[43m)\u001b[49m\n\u001b[32m     62\u001b[39m \u001b[38;5;28;01mreturn\u001b[39;00m memory_component\n",
      "\u001b[36mFile \u001b[39m\u001b[32m~/memorizz/venv/lib/python3.13/site-packages/memorizz/memory_component/memory_component.py:89\u001b[39m, in \u001b[36mMemoryComponent._save_memory_component\u001b[39m\u001b[34m(self, memory_component)\u001b[39m\n\u001b[32m     86\u001b[39m     memory_component_dict = memory_component\n\u001b[32m     88\u001b[39m \u001b[38;5;28;01mif\u001b[39;00m \u001b[38;5;28mself\u001b[39m.memory_mode == MemoryMode.Conversational \u001b[38;5;129;01mor\u001b[39;00m \u001b[38;5;28mself\u001b[39m.memory_mode == MemoryMode.General:\n\u001b[32m---> \u001b[39m\u001b[32m89\u001b[39m     \u001b[38;5;28;43mself\u001b[39;49m\u001b[43m.\u001b[49m\u001b[43mmemory_provider\u001b[49m\u001b[43m.\u001b[49m\u001b[43mstore\u001b[49m\u001b[43m(\u001b[49m\u001b[43mmemory_component_dict\u001b[49m\u001b[43m,\u001b[49m\u001b[43m \u001b[49m\u001b[43mMemoryType\u001b[49m\u001b[43m.\u001b[49m\u001b[43mCONVERSATION_MEMORY\u001b[49m\u001b[43m)\u001b[49m\n\u001b[32m     90\u001b[39m \u001b[38;5;28;01melif\u001b[39;00m \u001b[38;5;28mself\u001b[39m.memory_mode == MemoryMode.Task:\n\u001b[32m     91\u001b[39m     \u001b[38;5;28mself\u001b[39m.memory_provider.store(memory_component_dict, MemoryType.TASK_MEMORY)\n",
      "\u001b[36mFile \u001b[39m\u001b[32m~/memorizz/venv/lib/python3.13/site-packages/memorizz/memory_provider/mongodb/provider.py:198\u001b[39m, in \u001b[36mMongoDBProvider.store\u001b[39m\u001b[34m(self, data, memory_store_type)\u001b[39m\n\u001b[32m    195\u001b[39m     \u001b[38;5;28;01mreturn\u001b[39;00m \u001b[38;5;28mstr\u001b[39m(data_copy[\u001b[33m\"\u001b[39m\u001b[33m_id\u001b[39m\u001b[33m\"\u001b[39m])\n\u001b[32m    196\u001b[39m \u001b[38;5;28;01melse\u001b[39;00m:\n\u001b[32m    197\u001b[39m     \u001b[38;5;66;03m# For new documents, let MongoDB generate _id automatically\u001b[39;00m\n\u001b[32m--> \u001b[39m\u001b[32m198\u001b[39m     result = \u001b[43mcollection\u001b[49m\u001b[43m.\u001b[49m\u001b[43minsert_one\u001b[49m\u001b[43m(\u001b[49m\u001b[43mdata_copy\u001b[49m\u001b[43m)\u001b[49m\n\u001b[32m    199\u001b[39m     \u001b[38;5;28;01mreturn\u001b[39;00m \u001b[38;5;28mstr\u001b[39m(result.inserted_id)\n",
      "\u001b[36mFile \u001b[39m\u001b[32m~/memorizz/venv/lib/python3.13/site-packages/pymongo/synchronous/collection.py:891\u001b[39m, in \u001b[36mCollection.insert_one\u001b[39m\u001b[34m(self, document, bypass_document_validation, session, comment)\u001b[39m\n\u001b[32m    887\u001b[39m     document[\u001b[33m\"\u001b[39m\u001b[33m_id\u001b[39m\u001b[33m\"\u001b[39m] = ObjectId()  \u001b[38;5;66;03m# type: ignore[index]\u001b[39;00m\n\u001b[32m    889\u001b[39m write_concern = \u001b[38;5;28mself\u001b[39m._write_concern_for(session)\n\u001b[32m    890\u001b[39m \u001b[38;5;28;01mreturn\u001b[39;00m InsertOneResult(\n\u001b[32m--> \u001b[39m\u001b[32m891\u001b[39m     \u001b[38;5;28;43mself\u001b[39;49m\u001b[43m.\u001b[49m\u001b[43m_insert_one\u001b[49m\u001b[43m(\u001b[49m\n\u001b[32m    892\u001b[39m \u001b[43m        \u001b[49m\u001b[43mdocument\u001b[49m\u001b[43m,\u001b[49m\n\u001b[32m    893\u001b[39m \u001b[43m        \u001b[49m\u001b[43mordered\u001b[49m\u001b[43m=\u001b[49m\u001b[38;5;28;43;01mTrue\u001b[39;49;00m\u001b[43m,\u001b[49m\n\u001b[32m    894\u001b[39m \u001b[43m        \u001b[49m\u001b[43mwrite_concern\u001b[49m\u001b[43m=\u001b[49m\u001b[43mwrite_concern\u001b[49m\u001b[43m,\u001b[49m\n\u001b[32m    895\u001b[39m \u001b[43m        \u001b[49m\u001b[43mop_id\u001b[49m\u001b[43m=\u001b[49m\u001b[38;5;28;43;01mNone\u001b[39;49;00m\u001b[43m,\u001b[49m\n\u001b[32m    896\u001b[39m \u001b[43m        \u001b[49m\u001b[43mbypass_doc_val\u001b[49m\u001b[43m=\u001b[49m\u001b[43mbypass_document_validation\u001b[49m\u001b[43m,\u001b[49m\n\u001b[32m    897\u001b[39m \u001b[43m        \u001b[49m\u001b[43msession\u001b[49m\u001b[43m=\u001b[49m\u001b[43msession\u001b[49m\u001b[43m,\u001b[49m\n\u001b[32m    898\u001b[39m \u001b[43m        \u001b[49m\u001b[43mcomment\u001b[49m\u001b[43m=\u001b[49m\u001b[43mcomment\u001b[49m\u001b[43m,\u001b[49m\n\u001b[32m    899\u001b[39m \u001b[43m    \u001b[49m\u001b[43m)\u001b[49m,\n\u001b[32m    900\u001b[39m     write_concern.acknowledged,\n\u001b[32m    901\u001b[39m )\n",
      "\u001b[36mFile \u001b[39m\u001b[32m~/memorizz/venv/lib/python3.13/site-packages/pymongo/synchronous/collection.py:831\u001b[39m, in \u001b[36mCollection._insert_one\u001b[39m\u001b[34m(self, doc, ordered, write_concern, op_id, bypass_doc_val, session, comment)\u001b[39m\n\u001b[32m    819\u001b[39m     result = conn.command(\n\u001b[32m    820\u001b[39m         \u001b[38;5;28mself\u001b[39m._database.name,\n\u001b[32m    821\u001b[39m         command,\n\u001b[32m   (...)\u001b[39m\u001b[32m    826\u001b[39m         retryable_write=retryable_write,\n\u001b[32m    827\u001b[39m     )\n\u001b[32m    829\u001b[39m     _check_write_command_response(result)\n\u001b[32m--> \u001b[39m\u001b[32m831\u001b[39m \u001b[38;5;28;43mself\u001b[39;49m\u001b[43m.\u001b[49m\u001b[43m_database\u001b[49m\u001b[43m.\u001b[49m\u001b[43mclient\u001b[49m\u001b[43m.\u001b[49m\u001b[43m_retryable_write\u001b[49m\u001b[43m(\u001b[49m\n\u001b[32m    832\u001b[39m \u001b[43m    \u001b[49m\u001b[43macknowledged\u001b[49m\u001b[43m,\u001b[49m\u001b[43m \u001b[49m\u001b[43m_insert_command\u001b[49m\u001b[43m,\u001b[49m\u001b[43m \u001b[49m\u001b[43msession\u001b[49m\u001b[43m,\u001b[49m\u001b[43m \u001b[49m\u001b[43moperation\u001b[49m\u001b[43m=\u001b[49m\u001b[43m_Op\u001b[49m\u001b[43m.\u001b[49m\u001b[43mINSERT\u001b[49m\n\u001b[32m    833\u001b[39m \u001b[43m\u001b[49m\u001b[43m)\u001b[49m\n\u001b[32m    835\u001b[39m \u001b[38;5;28;01mif\u001b[39;00m \u001b[38;5;129;01mnot\u001b[39;00m \u001b[38;5;28misinstance\u001b[39m(doc, RawBSONDocument):\n\u001b[32m    836\u001b[39m     \u001b[38;5;28;01mreturn\u001b[39;00m doc.get(\u001b[33m\"\u001b[39m\u001b[33m_id\u001b[39m\u001b[33m\"\u001b[39m)\n",
      "\u001b[36mFile \u001b[39m\u001b[32m~/memorizz/venv/lib/python3.13/site-packages/pymongo/synchronous/mongo_client.py:2061\u001b[39m, in \u001b[36mMongoClient._retryable_write\u001b[39m\u001b[34m(self, retryable, func, session, operation, bulk, operation_id)\u001b[39m\n\u001b[32m   2047\u001b[39m \u001b[38;5;250m\u001b[39m\u001b[33;03m\"\"\"Execute an operation with consecutive retries if possible\u001b[39;00m\n\u001b[32m   2048\u001b[39m \n\u001b[32m   2049\u001b[39m \u001b[33;03mReturns func()'s return value on success. On error retries the same\u001b[39;00m\n\u001b[32m   (...)\u001b[39m\u001b[32m   2058\u001b[39m \u001b[33;03m:param bulk: bulk abstraction to execute operations in bulk, defaults to None\u001b[39;00m\n\u001b[32m   2059\u001b[39m \u001b[33;03m\"\"\"\u001b[39;00m\n\u001b[32m   2060\u001b[39m \u001b[38;5;28;01mwith\u001b[39;00m \u001b[38;5;28mself\u001b[39m._tmp_session(session) \u001b[38;5;28;01mas\u001b[39;00m s:\n\u001b[32m-> \u001b[39m\u001b[32m2061\u001b[39m     \u001b[38;5;28;01mreturn\u001b[39;00m \u001b[38;5;28;43mself\u001b[39;49m\u001b[43m.\u001b[49m\u001b[43m_retry_with_session\u001b[49m\u001b[43m(\u001b[49m\u001b[43mretryable\u001b[49m\u001b[43m,\u001b[49m\u001b[43m \u001b[49m\u001b[43mfunc\u001b[49m\u001b[43m,\u001b[49m\u001b[43m \u001b[49m\u001b[43ms\u001b[49m\u001b[43m,\u001b[49m\u001b[43m \u001b[49m\u001b[43mbulk\u001b[49m\u001b[43m,\u001b[49m\u001b[43m \u001b[49m\u001b[43moperation\u001b[49m\u001b[43m,\u001b[49m\u001b[43m \u001b[49m\u001b[43moperation_id\u001b[49m\u001b[43m)\u001b[49m\n",
      "\u001b[36mFile \u001b[39m\u001b[32m~/memorizz/venv/lib/python3.13/site-packages/pymongo/synchronous/mongo_client.py:1947\u001b[39m, in \u001b[36mMongoClient._retry_with_session\u001b[39m\u001b[34m(self, retryable, func, session, bulk, operation, operation_id)\u001b[39m\n\u001b[32m   1942\u001b[39m \u001b[38;5;66;03m# Ensure that the options supports retry_writes and there is a valid session not in\u001b[39;00m\n\u001b[32m   1943\u001b[39m \u001b[38;5;66;03m# transaction, otherwise, we will not support retry behavior for this txn.\u001b[39;00m\n\u001b[32m   1944\u001b[39m retryable = \u001b[38;5;28mbool\u001b[39m(\n\u001b[32m   1945\u001b[39m     retryable \u001b[38;5;129;01mand\u001b[39;00m \u001b[38;5;28mself\u001b[39m.options.retry_writes \u001b[38;5;129;01mand\u001b[39;00m session \u001b[38;5;129;01mand\u001b[39;00m \u001b[38;5;129;01mnot\u001b[39;00m session.in_transaction\n\u001b[32m   1946\u001b[39m )\n\u001b[32m-> \u001b[39m\u001b[32m1947\u001b[39m \u001b[38;5;28;01mreturn\u001b[39;00m \u001b[38;5;28;43mself\u001b[39;49m\u001b[43m.\u001b[49m\u001b[43m_retry_internal\u001b[49m\u001b[43m(\u001b[49m\n\u001b[32m   1948\u001b[39m \u001b[43m    \u001b[49m\u001b[43mfunc\u001b[49m\u001b[43m=\u001b[49m\u001b[43mfunc\u001b[49m\u001b[43m,\u001b[49m\n\u001b[32m   1949\u001b[39m \u001b[43m    \u001b[49m\u001b[43msession\u001b[49m\u001b[43m=\u001b[49m\u001b[43msession\u001b[49m\u001b[43m,\u001b[49m\n\u001b[32m   1950\u001b[39m \u001b[43m    \u001b[49m\u001b[43mbulk\u001b[49m\u001b[43m=\u001b[49m\u001b[43mbulk\u001b[49m\u001b[43m,\u001b[49m\n\u001b[32m   1951\u001b[39m \u001b[43m    \u001b[49m\u001b[43moperation\u001b[49m\u001b[43m=\u001b[49m\u001b[43moperation\u001b[49m\u001b[43m,\u001b[49m\n\u001b[32m   1952\u001b[39m \u001b[43m    \u001b[49m\u001b[43mretryable\u001b[49m\u001b[43m=\u001b[49m\u001b[43mretryable\u001b[49m\u001b[43m,\u001b[49m\n\u001b[32m   1953\u001b[39m \u001b[43m    \u001b[49m\u001b[43moperation_id\u001b[49m\u001b[43m=\u001b[49m\u001b[43moperation_id\u001b[49m\u001b[43m,\u001b[49m\n\u001b[32m   1954\u001b[39m \u001b[43m\u001b[49m\u001b[43m)\u001b[49m\n",
      "\u001b[36mFile \u001b[39m\u001b[32m~/memorizz/venv/lib/python3.13/site-packages/pymongo/_csot.py:119\u001b[39m, in \u001b[36mapply.<locals>.csot_wrapper\u001b[39m\u001b[34m(self, *args, **kwargs)\u001b[39m\n\u001b[32m    117\u001b[39m         \u001b[38;5;28;01mwith\u001b[39;00m _TimeoutContext(timeout):\n\u001b[32m    118\u001b[39m             \u001b[38;5;28;01mreturn\u001b[39;00m func(\u001b[38;5;28mself\u001b[39m, *args, **kwargs)\n\u001b[32m--> \u001b[39m\u001b[32m119\u001b[39m \u001b[38;5;28;01mreturn\u001b[39;00m \u001b[43mfunc\u001b[49m\u001b[43m(\u001b[49m\u001b[38;5;28;43mself\u001b[39;49m\u001b[43m,\u001b[49m\u001b[43m \u001b[49m\u001b[43m*\u001b[49m\u001b[43margs\u001b[49m\u001b[43m,\u001b[49m\u001b[43m \u001b[49m\u001b[43m*\u001b[49m\u001b[43m*\u001b[49m\u001b[43mkwargs\u001b[49m\u001b[43m)\u001b[49m\n",
      "\u001b[36mFile \u001b[39m\u001b[32m~/memorizz/venv/lib/python3.13/site-packages/pymongo/synchronous/mongo_client.py:1993\u001b[39m, in \u001b[36mMongoClient._retry_internal\u001b[39m\u001b[34m(self, func, session, bulk, operation, is_read, address, read_pref, retryable, operation_id)\u001b[39m\n\u001b[32m   1956\u001b[39m \u001b[38;5;129m@_csot\u001b[39m.apply\n\u001b[32m   1957\u001b[39m \u001b[38;5;28;01mdef\u001b[39;00m\u001b[38;5;250m \u001b[39m\u001b[34m_retry_internal\u001b[39m(\n\u001b[32m   1958\u001b[39m     \u001b[38;5;28mself\u001b[39m,\n\u001b[32m   (...)\u001b[39m\u001b[32m   1967\u001b[39m     operation_id: Optional[\u001b[38;5;28mint\u001b[39m] = \u001b[38;5;28;01mNone\u001b[39;00m,\n\u001b[32m   1968\u001b[39m ) -> T:\n\u001b[32m   1969\u001b[39m \u001b[38;5;250m    \u001b[39m\u001b[33;03m\"\"\"Internal retryable helper for all client transactions.\u001b[39;00m\n\u001b[32m   1970\u001b[39m \n\u001b[32m   1971\u001b[39m \u001b[33;03m    :param func: Callback function we want to retry\u001b[39;00m\n\u001b[32m   (...)\u001b[39m\u001b[32m   1980\u001b[39m \u001b[33;03m    :return: Output of the calling func()\u001b[39;00m\n\u001b[32m   1981\u001b[39m \u001b[33;03m    \"\"\"\u001b[39;00m\n\u001b[32m   1982\u001b[39m     \u001b[38;5;28;01mreturn\u001b[39;00m \u001b[43m_ClientConnectionRetryable\u001b[49m\u001b[43m(\u001b[49m\n\u001b[32m   1983\u001b[39m \u001b[43m        \u001b[49m\u001b[43mmongo_client\u001b[49m\u001b[43m=\u001b[49m\u001b[38;5;28;43mself\u001b[39;49m\u001b[43m,\u001b[49m\n\u001b[32m   1984\u001b[39m \u001b[43m        \u001b[49m\u001b[43mfunc\u001b[49m\u001b[43m=\u001b[49m\u001b[43mfunc\u001b[49m\u001b[43m,\u001b[49m\n\u001b[32m   1985\u001b[39m \u001b[43m        \u001b[49m\u001b[43mbulk\u001b[49m\u001b[43m=\u001b[49m\u001b[43mbulk\u001b[49m\u001b[43m,\u001b[49m\n\u001b[32m   1986\u001b[39m \u001b[43m        \u001b[49m\u001b[43moperation\u001b[49m\u001b[43m=\u001b[49m\u001b[43moperation\u001b[49m\u001b[43m,\u001b[49m\n\u001b[32m   1987\u001b[39m \u001b[43m        \u001b[49m\u001b[43mis_read\u001b[49m\u001b[43m=\u001b[49m\u001b[43mis_read\u001b[49m\u001b[43m,\u001b[49m\n\u001b[32m   1988\u001b[39m \u001b[43m        \u001b[49m\u001b[43msession\u001b[49m\u001b[43m=\u001b[49m\u001b[43msession\u001b[49m\u001b[43m,\u001b[49m\n\u001b[32m   1989\u001b[39m \u001b[43m        \u001b[49m\u001b[43mread_pref\u001b[49m\u001b[43m=\u001b[49m\u001b[43mread_pref\u001b[49m\u001b[43m,\u001b[49m\n\u001b[32m   1990\u001b[39m \u001b[43m        \u001b[49m\u001b[43maddress\u001b[49m\u001b[43m=\u001b[49m\u001b[43maddress\u001b[49m\u001b[43m,\u001b[49m\n\u001b[32m   1991\u001b[39m \u001b[43m        \u001b[49m\u001b[43mretryable\u001b[49m\u001b[43m=\u001b[49m\u001b[43mretryable\u001b[49m\u001b[43m,\u001b[49m\n\u001b[32m   1992\u001b[39m \u001b[43m        \u001b[49m\u001b[43moperation_id\u001b[49m\u001b[43m=\u001b[49m\u001b[43moperation_id\u001b[49m\u001b[43m,\u001b[49m\n\u001b[32m-> \u001b[39m\u001b[32m1993\u001b[39m \u001b[43m    \u001b[49m\u001b[43m)\u001b[49m\u001b[43m.\u001b[49m\u001b[43mrun\u001b[49m\u001b[43m(\u001b[49m\u001b[43m)\u001b[49m\n",
      "\u001b[36mFile \u001b[39m\u001b[32m~/memorizz/venv/lib/python3.13/site-packages/pymongo/synchronous/mongo_client.py:2730\u001b[39m, in \u001b[36m_ClientConnectionRetryable.run\u001b[39m\u001b[34m(self)\u001b[39m\n\u001b[32m   2728\u001b[39m \u001b[38;5;28mself\u001b[39m._check_last_error(check_csot=\u001b[38;5;28;01mTrue\u001b[39;00m)\n\u001b[32m   2729\u001b[39m \u001b[38;5;28;01mtry\u001b[39;00m:\n\u001b[32m-> \u001b[39m\u001b[32m2730\u001b[39m     \u001b[38;5;28;01mreturn\u001b[39;00m \u001b[38;5;28mself\u001b[39m._read() \u001b[38;5;28;01mif\u001b[39;00m \u001b[38;5;28mself\u001b[39m._is_read \u001b[38;5;28;01melse\u001b[39;00m \u001b[38;5;28;43mself\u001b[39;49m\u001b[43m.\u001b[49m\u001b[43m_write\u001b[49m\u001b[43m(\u001b[49m\u001b[43m)\u001b[49m\n\u001b[32m   2731\u001b[39m \u001b[38;5;28;01mexcept\u001b[39;00m ServerSelectionTimeoutError:\n\u001b[32m   2732\u001b[39m     \u001b[38;5;66;03m# The application may think the write was never attempted\u001b[39;00m\n\u001b[32m   2733\u001b[39m     \u001b[38;5;66;03m# if we raise ServerSelectionTimeoutError on the retry\u001b[39;00m\n\u001b[32m   2734\u001b[39m     \u001b[38;5;66;03m# attempt. Raise the original exception instead.\u001b[39;00m\n\u001b[32m   2735\u001b[39m     \u001b[38;5;28mself\u001b[39m._check_last_error()\n",
      "\u001b[36mFile \u001b[39m\u001b[32m~/memorizz/venv/lib/python3.13/site-packages/pymongo/synchronous/mongo_client.py:2862\u001b[39m, in \u001b[36m_ClientConnectionRetryable._write\u001b[39m\u001b[34m(self)\u001b[39m\n\u001b[32m   2854\u001b[39m         \u001b[38;5;28;01mif\u001b[39;00m \u001b[38;5;28mself\u001b[39m._retrying:\n\u001b[32m   2855\u001b[39m             _debug_log(\n\u001b[32m   2856\u001b[39m                 _COMMAND_LOGGER,\n\u001b[32m   2857\u001b[39m                 message=\u001b[33mf\u001b[39m\u001b[33m\"\u001b[39m\u001b[33mRetrying write attempt number \u001b[39m\u001b[38;5;132;01m{\u001b[39;00m\u001b[38;5;28mself\u001b[39m._attempt_number\u001b[38;5;132;01m}\u001b[39;00m\u001b[33m\"\u001b[39m,\n\u001b[32m   (...)\u001b[39m\u001b[32m   2860\u001b[39m                 operationId=\u001b[38;5;28mself\u001b[39m._operation_id,\n\u001b[32m   2861\u001b[39m             )\n\u001b[32m-> \u001b[39m\u001b[32m2862\u001b[39m         \u001b[38;5;28;01mreturn\u001b[39;00m \u001b[38;5;28;43mself\u001b[39;49m\u001b[43m.\u001b[49m\u001b[43m_func\u001b[49m\u001b[43m(\u001b[49m\u001b[38;5;28;43mself\u001b[39;49m\u001b[43m.\u001b[49m\u001b[43m_session\u001b[49m\u001b[43m,\u001b[49m\u001b[43m \u001b[49m\u001b[43mconn\u001b[49m\u001b[43m,\u001b[49m\u001b[43m \u001b[49m\u001b[38;5;28;43mself\u001b[39;49m\u001b[43m.\u001b[49m\u001b[43m_retryable\u001b[49m\u001b[43m)\u001b[49m  \u001b[38;5;66;03m# type: ignore\u001b[39;00m\n\u001b[32m   2863\u001b[39m \u001b[38;5;28;01mexcept\u001b[39;00m PyMongoError \u001b[38;5;28;01mas\u001b[39;00m exc:\n\u001b[32m   2864\u001b[39m     \u001b[38;5;28;01mif\u001b[39;00m \u001b[38;5;129;01mnot\u001b[39;00m \u001b[38;5;28mself\u001b[39m._retryable:\n",
      "\u001b[36mFile \u001b[39m\u001b[32m~/memorizz/venv/lib/python3.13/site-packages/pymongo/synchronous/collection.py:819\u001b[39m, in \u001b[36mCollection._insert_one.<locals>._insert_command\u001b[39m\u001b[34m(session, conn, retryable_write)\u001b[39m\n\u001b[32m    816\u001b[39m \u001b[38;5;28;01mif\u001b[39;00m bypass_doc_val \u001b[38;5;129;01mis\u001b[39;00m \u001b[38;5;129;01mnot\u001b[39;00m \u001b[38;5;28;01mNone\u001b[39;00m:\n\u001b[32m    817\u001b[39m     command[\u001b[33m\"\u001b[39m\u001b[33mbypassDocumentValidation\u001b[39m\u001b[33m\"\u001b[39m] = bypass_doc_val\n\u001b[32m--> \u001b[39m\u001b[32m819\u001b[39m result = \u001b[43mconn\u001b[49m\u001b[43m.\u001b[49m\u001b[43mcommand\u001b[49m\u001b[43m(\u001b[49m\n\u001b[32m    820\u001b[39m \u001b[43m    \u001b[49m\u001b[38;5;28;43mself\u001b[39;49m\u001b[43m.\u001b[49m\u001b[43m_database\u001b[49m\u001b[43m.\u001b[49m\u001b[43mname\u001b[49m\u001b[43m,\u001b[49m\n\u001b[32m    821\u001b[39m \u001b[43m    \u001b[49m\u001b[43mcommand\u001b[49m\u001b[43m,\u001b[49m\n\u001b[32m    822\u001b[39m \u001b[43m    \u001b[49m\u001b[43mwrite_concern\u001b[49m\u001b[43m=\u001b[49m\u001b[43mwrite_concern\u001b[49m\u001b[43m,\u001b[49m\n\u001b[32m    823\u001b[39m \u001b[43m    \u001b[49m\u001b[43mcodec_options\u001b[49m\u001b[43m=\u001b[49m\u001b[38;5;28;43mself\u001b[39;49m\u001b[43m.\u001b[49m\u001b[43m_write_response_codec_options\u001b[49m\u001b[43m,\u001b[49m\n\u001b[32m    824\u001b[39m \u001b[43m    \u001b[49m\u001b[43msession\u001b[49m\u001b[43m=\u001b[49m\u001b[43msession\u001b[49m\u001b[43m,\u001b[49m\n\u001b[32m    825\u001b[39m \u001b[43m    \u001b[49m\u001b[43mclient\u001b[49m\u001b[43m=\u001b[49m\u001b[38;5;28;43mself\u001b[39;49m\u001b[43m.\u001b[49m\u001b[43m_database\u001b[49m\u001b[43m.\u001b[49m\u001b[43mclient\u001b[49m\u001b[43m,\u001b[49m\n\u001b[32m    826\u001b[39m \u001b[43m    \u001b[49m\u001b[43mretryable_write\u001b[49m\u001b[43m=\u001b[49m\u001b[43mretryable_write\u001b[49m\u001b[43m,\u001b[49m\n\u001b[32m    827\u001b[39m \u001b[43m\u001b[49m\u001b[43m)\u001b[49m\n\u001b[32m    829\u001b[39m _check_write_command_response(result)\n",
      "\u001b[36mFile \u001b[39m\u001b[32m~/memorizz/venv/lib/python3.13/site-packages/pymongo/synchronous/helpers.py:47\u001b[39m, in \u001b[36m_handle_reauth.<locals>.inner\u001b[39m\u001b[34m(*args, **kwargs)\u001b[39m\n\u001b[32m     44\u001b[39m \u001b[38;5;28;01mfrom\u001b[39;00m\u001b[38;5;250m \u001b[39m\u001b[34;01mpymongo\u001b[39;00m\u001b[34;01m.\u001b[39;00m\u001b[34;01msynchronous\u001b[39;00m\u001b[34;01m.\u001b[39;00m\u001b[34;01mpool\u001b[39;00m\u001b[38;5;250m \u001b[39m\u001b[38;5;28;01mimport\u001b[39;00m Connection\n\u001b[32m     46\u001b[39m \u001b[38;5;28;01mtry\u001b[39;00m:\n\u001b[32m---> \u001b[39m\u001b[32m47\u001b[39m     \u001b[38;5;28;01mreturn\u001b[39;00m \u001b[43mfunc\u001b[49m\u001b[43m(\u001b[49m\u001b[43m*\u001b[49m\u001b[43margs\u001b[49m\u001b[43m,\u001b[49m\u001b[43m \u001b[49m\u001b[43m*\u001b[49m\u001b[43m*\u001b[49m\u001b[43mkwargs\u001b[49m\u001b[43m)\u001b[49m\n\u001b[32m     48\u001b[39m \u001b[38;5;28;01mexcept\u001b[39;00m OperationFailure \u001b[38;5;28;01mas\u001b[39;00m exc:\n\u001b[32m     49\u001b[39m     \u001b[38;5;28;01mif\u001b[39;00m no_reauth:\n",
      "\u001b[36mFile \u001b[39m\u001b[32m~/memorizz/venv/lib/python3.13/site-packages/pymongo/synchronous/pool.py:442\u001b[39m, in \u001b[36mConnection.command\u001b[39m\u001b[34m(self, dbname, spec, read_preference, codec_options, check, allowable_errors, read_concern, write_concern, parse_write_concern_error, collation, session, client, retryable_write, publish_events, user_fields, exhaust_allowed)\u001b[39m\n\u001b[32m    440\u001b[39m \u001b[38;5;66;03m# Catch socket.error, KeyboardInterrupt, CancelledError, etc. and close ourselves.\u001b[39;00m\n\u001b[32m    441\u001b[39m \u001b[38;5;28;01mexcept\u001b[39;00m \u001b[38;5;167;01mBaseException\u001b[39;00m \u001b[38;5;28;01mas\u001b[39;00m error:\n\u001b[32m--> \u001b[39m\u001b[32m442\u001b[39m     \u001b[38;5;28;43mself\u001b[39;49m\u001b[43m.\u001b[49m\u001b[43m_raise_connection_failure\u001b[49m\u001b[43m(\u001b[49m\u001b[43merror\u001b[49m\u001b[43m)\u001b[49m\n",
      "\u001b[36mFile \u001b[39m\u001b[32m~/memorizz/venv/lib/python3.13/site-packages/pymongo/synchronous/pool.py:414\u001b[39m, in \u001b[36mConnection.command\u001b[39m\u001b[34m(self, dbname, spec, read_preference, codec_options, check, allowable_errors, read_concern, write_concern, parse_write_concern_error, collation, session, client, retryable_write, publish_events, user_fields, exhaust_allowed)\u001b[39m\n\u001b[32m    412\u001b[39m     \u001b[38;5;28mself\u001b[39m._raise_if_not_writable(unacknowledged)\n\u001b[32m    413\u001b[39m \u001b[38;5;28;01mtry\u001b[39;00m:\n\u001b[32m--> \u001b[39m\u001b[32m414\u001b[39m     \u001b[38;5;28;01mreturn\u001b[39;00m \u001b[43mcommand\u001b[49m\u001b[43m(\u001b[49m\n\u001b[32m    415\u001b[39m \u001b[43m        \u001b[49m\u001b[38;5;28;43mself\u001b[39;49m\u001b[43m,\u001b[49m\n\u001b[32m    416\u001b[39m \u001b[43m        \u001b[49m\u001b[43mdbname\u001b[49m\u001b[43m,\u001b[49m\n\u001b[32m    417\u001b[39m \u001b[43m        \u001b[49m\u001b[43mspec\u001b[49m\u001b[43m,\u001b[49m\n\u001b[32m    418\u001b[39m \u001b[43m        \u001b[49m\u001b[38;5;28;43mself\u001b[39;49m\u001b[43m.\u001b[49m\u001b[43mis_mongos\u001b[49m\u001b[43m,\u001b[49m\n\u001b[32m    419\u001b[39m \u001b[43m        \u001b[49m\u001b[43mread_preference\u001b[49m\u001b[43m,\u001b[49m\n\u001b[32m    420\u001b[39m \u001b[43m        \u001b[49m\u001b[43mcodec_options\u001b[49m\u001b[43m,\u001b[49m\n\u001b[32m    421\u001b[39m \u001b[43m        \u001b[49m\u001b[43msession\u001b[49m\u001b[43m,\u001b[49m\n\u001b[32m    422\u001b[39m \u001b[43m        \u001b[49m\u001b[43mclient\u001b[49m\u001b[43m,\u001b[49m\n\u001b[32m    423\u001b[39m \u001b[43m        \u001b[49m\u001b[43mcheck\u001b[49m\u001b[43m,\u001b[49m\n\u001b[32m    424\u001b[39m \u001b[43m        \u001b[49m\u001b[43mallowable_errors\u001b[49m\u001b[43m,\u001b[49m\n\u001b[32m    425\u001b[39m \u001b[43m        \u001b[49m\u001b[38;5;28;43mself\u001b[39;49m\u001b[43m.\u001b[49m\u001b[43maddress\u001b[49m\u001b[43m,\u001b[49m\n\u001b[32m    426\u001b[39m \u001b[43m        \u001b[49m\u001b[43mlisteners\u001b[49m\u001b[43m,\u001b[49m\n\u001b[32m    427\u001b[39m \u001b[43m        \u001b[49m\u001b[38;5;28;43mself\u001b[39;49m\u001b[43m.\u001b[49m\u001b[43mmax_bson_size\u001b[49m\u001b[43m,\u001b[49m\n\u001b[32m    428\u001b[39m \u001b[43m        \u001b[49m\u001b[43mread_concern\u001b[49m\u001b[43m,\u001b[49m\n\u001b[32m    429\u001b[39m \u001b[43m        \u001b[49m\u001b[43mparse_write_concern_error\u001b[49m\u001b[43m=\u001b[49m\u001b[43mparse_write_concern_error\u001b[49m\u001b[43m,\u001b[49m\n\u001b[32m    430\u001b[39m \u001b[43m        \u001b[49m\u001b[43mcollation\u001b[49m\u001b[43m=\u001b[49m\u001b[43mcollation\u001b[49m\u001b[43m,\u001b[49m\n\u001b[32m    431\u001b[39m \u001b[43m        \u001b[49m\u001b[43mcompression_ctx\u001b[49m\u001b[43m=\u001b[49m\u001b[38;5;28;43mself\u001b[39;49m\u001b[43m.\u001b[49m\u001b[43mcompression_context\u001b[49m\u001b[43m,\u001b[49m\n\u001b[32m    432\u001b[39m \u001b[43m        \u001b[49m\u001b[43muse_op_msg\u001b[49m\u001b[43m=\u001b[49m\u001b[38;5;28;43mself\u001b[39;49m\u001b[43m.\u001b[49m\u001b[43mop_msg_enabled\u001b[49m\u001b[43m,\u001b[49m\n\u001b[32m    433\u001b[39m \u001b[43m        \u001b[49m\u001b[43munacknowledged\u001b[49m\u001b[43m=\u001b[49m\u001b[43munacknowledged\u001b[49m\u001b[43m,\u001b[49m\n\u001b[32m    434\u001b[39m \u001b[43m        \u001b[49m\u001b[43muser_fields\u001b[49m\u001b[43m=\u001b[49m\u001b[43muser_fields\u001b[49m\u001b[43m,\u001b[49m\n\u001b[32m    435\u001b[39m \u001b[43m        \u001b[49m\u001b[43mexhaust_allowed\u001b[49m\u001b[43m=\u001b[49m\u001b[43mexhaust_allowed\u001b[49m\u001b[43m,\u001b[49m\n\u001b[32m    436\u001b[39m \u001b[43m        \u001b[49m\u001b[43mwrite_concern\u001b[49m\u001b[43m=\u001b[49m\u001b[43mwrite_concern\u001b[49m\u001b[43m,\u001b[49m\n\u001b[32m    437\u001b[39m \u001b[43m    \u001b[49m\u001b[43m)\u001b[49m\n\u001b[32m    438\u001b[39m \u001b[38;5;28;01mexcept\u001b[39;00m (OperationFailure, NotPrimaryError):\n\u001b[32m    439\u001b[39m     \u001b[38;5;28;01mraise\u001b[39;00m\n",
      "\u001b[36mFile \u001b[39m\u001b[32m~/memorizz/venv/lib/python3.13/site-packages/pymongo/synchronous/network.py:198\u001b[39m, in \u001b[36mcommand\u001b[39m\u001b[34m(conn, dbname, spec, is_mongos, read_preference, codec_options, session, client, check, allowable_errors, address, listeners, max_bson_size, read_concern, parse_write_concern_error, collation, compression_ctx, use_op_msg, unacknowledged, user_fields, exhaust_allowed, write_concern)\u001b[39m\n\u001b[32m    196\u001b[39m     response_doc: _DocumentOut = {\u001b[33m\"\u001b[39m\u001b[33mok\u001b[39m\u001b[33m\"\u001b[39m: \u001b[32m1\u001b[39m}\n\u001b[32m    197\u001b[39m \u001b[38;5;28;01melse\u001b[39;00m:\n\u001b[32m--> \u001b[39m\u001b[32m198\u001b[39m     reply = \u001b[43mreceive_message\u001b[49m\u001b[43m(\u001b[49m\u001b[43mconn\u001b[49m\u001b[43m,\u001b[49m\u001b[43m \u001b[49m\u001b[43mrequest_id\u001b[49m\u001b[43m)\u001b[49m\n\u001b[32m    199\u001b[39m     conn.more_to_come = reply.more_to_come\n\u001b[32m    200\u001b[39m     unpacked_docs = reply.unpack_response(\n\u001b[32m    201\u001b[39m         codec_options=codec_options, user_fields=user_fields\n\u001b[32m    202\u001b[39m     )\n",
      "\u001b[36mFile \u001b[39m\u001b[32m~/memorizz/venv/lib/python3.13/site-packages/pymongo/network_layer.py:756\u001b[39m, in \u001b[36mreceive_message\u001b[39m\u001b[34m(conn, request_id, max_message_size)\u001b[39m\n\u001b[32m    754\u001b[39m         deadline = \u001b[38;5;28;01mNone\u001b[39;00m\n\u001b[32m    755\u001b[39m \u001b[38;5;66;03m# Ignore the response's request id.\u001b[39;00m\n\u001b[32m--> \u001b[39m\u001b[32m756\u001b[39m length, _, response_to, op_code = _UNPACK_HEADER(\u001b[43mreceive_data\u001b[49m\u001b[43m(\u001b[49m\u001b[43mconn\u001b[49m\u001b[43m,\u001b[49m\u001b[43m \u001b[49m\u001b[32;43m16\u001b[39;49m\u001b[43m,\u001b[49m\u001b[43m \u001b[49m\u001b[43mdeadline\u001b[49m\u001b[43m)\u001b[49m)\n\u001b[32m    757\u001b[39m \u001b[38;5;66;03m# No request_id for exhaust cursor \"getMore\".\u001b[39;00m\n\u001b[32m    758\u001b[39m \u001b[38;5;28;01mif\u001b[39;00m request_id \u001b[38;5;129;01mis\u001b[39;00m \u001b[38;5;129;01mnot\u001b[39;00m \u001b[38;5;28;01mNone\u001b[39;00m:\n",
      "\u001b[36mFile \u001b[39m\u001b[32m~/memorizz/venv/lib/python3.13/site-packages/pymongo/network_layer.py:351\u001b[39m, in \u001b[36mreceive_data\u001b[39m\u001b[34m(conn, length, deadline)\u001b[39m\n\u001b[32m    348\u001b[39m             short_timeout = _POLL_TIMEOUT\n\u001b[32m    349\u001b[39m         conn.set_conn_timeout(short_timeout)\n\u001b[32m--> \u001b[39m\u001b[32m351\u001b[39m     chunk_length = \u001b[43mconn\u001b[49m\u001b[43m.\u001b[49m\u001b[43mconn\u001b[49m\u001b[43m.\u001b[49m\u001b[43mrecv_into\u001b[49m\u001b[43m(\u001b[49m\u001b[43mmv\u001b[49m\u001b[43m[\u001b[49m\u001b[43mbytes_read\u001b[49m\u001b[43m:\u001b[49m\u001b[43m]\u001b[49m\u001b[43m)\u001b[49m\n\u001b[32m    352\u001b[39m \u001b[38;5;28;01mexcept\u001b[39;00m BLOCKING_IO_ERRORS:\n\u001b[32m    353\u001b[39m     \u001b[38;5;28;01mif\u001b[39;00m conn.cancel_context.cancelled:\n",
      "\u001b[36mFile \u001b[39m\u001b[32m~/memorizz/venv/lib/python3.13/site-packages/pymongo/network_layer.py:466\u001b[39m, in \u001b[36mNetworkingInterface.recv_into\u001b[39m\u001b[34m(self, buffer)\u001b[39m\n\u001b[32m    465\u001b[39m \u001b[38;5;28;01mdef\u001b[39;00m\u001b[38;5;250m \u001b[39m\u001b[34mrecv_into\u001b[39m(\u001b[38;5;28mself\u001b[39m, buffer: \u001b[38;5;28mbytes\u001b[39m) -> \u001b[38;5;28mint\u001b[39m:\n\u001b[32m--> \u001b[39m\u001b[32m466\u001b[39m     \u001b[38;5;28;01mreturn\u001b[39;00m \u001b[38;5;28;43mself\u001b[39;49m\u001b[43m.\u001b[49m\u001b[43mconn\u001b[49m\u001b[43m.\u001b[49m\u001b[43mrecv_into\u001b[49m\u001b[43m(\u001b[49m\u001b[43mbuffer\u001b[49m\u001b[43m)\u001b[49m\n",
      "\u001b[36mFile \u001b[39m\u001b[32m/usr/local/Cellar/python@3.13/3.13.2/Frameworks/Python.framework/Versions/3.13/lib/python3.13/ssl.py:1304\u001b[39m, in \u001b[36mSSLSocket.recv_into\u001b[39m\u001b[34m(self, buffer, nbytes, flags)\u001b[39m\n\u001b[32m   1300\u001b[39m     \u001b[38;5;28;01mif\u001b[39;00m flags != \u001b[32m0\u001b[39m:\n\u001b[32m   1301\u001b[39m         \u001b[38;5;28;01mraise\u001b[39;00m \u001b[38;5;167;01mValueError\u001b[39;00m(\n\u001b[32m   1302\u001b[39m           \u001b[33m\"\u001b[39m\u001b[33mnon-zero flags not allowed in calls to recv_into() on \u001b[39m\u001b[38;5;132;01m%s\u001b[39;00m\u001b[33m\"\u001b[39m %\n\u001b[32m   1303\u001b[39m           \u001b[38;5;28mself\u001b[39m.\u001b[34m__class__\u001b[39m)\n\u001b[32m-> \u001b[39m\u001b[32m1304\u001b[39m     \u001b[38;5;28;01mreturn\u001b[39;00m \u001b[38;5;28;43mself\u001b[39;49m\u001b[43m.\u001b[49m\u001b[43mread\u001b[49m\u001b[43m(\u001b[49m\u001b[43mnbytes\u001b[49m\u001b[43m,\u001b[49m\u001b[43m \u001b[49m\u001b[43mbuffer\u001b[49m\u001b[43m)\u001b[49m\n\u001b[32m   1305\u001b[39m \u001b[38;5;28;01melse\u001b[39;00m:\n\u001b[32m   1306\u001b[39m     \u001b[38;5;28;01mreturn\u001b[39;00m \u001b[38;5;28msuper\u001b[39m().recv_into(buffer, nbytes, flags)\n",
      "\u001b[36mFile \u001b[39m\u001b[32m/usr/local/Cellar/python@3.13/3.13.2/Frameworks/Python.framework/Versions/3.13/lib/python3.13/ssl.py:1138\u001b[39m, in \u001b[36mSSLSocket.read\u001b[39m\u001b[34m(self, len, buffer)\u001b[39m\n\u001b[32m   1136\u001b[39m \u001b[38;5;28;01mtry\u001b[39;00m:\n\u001b[32m   1137\u001b[39m     \u001b[38;5;28;01mif\u001b[39;00m buffer \u001b[38;5;129;01mis\u001b[39;00m \u001b[38;5;129;01mnot\u001b[39;00m \u001b[38;5;28;01mNone\u001b[39;00m:\n\u001b[32m-> \u001b[39m\u001b[32m1138\u001b[39m         \u001b[38;5;28;01mreturn\u001b[39;00m \u001b[38;5;28;43mself\u001b[39;49m\u001b[43m.\u001b[49m\u001b[43m_sslobj\u001b[49m\u001b[43m.\u001b[49m\u001b[43mread\u001b[49m\u001b[43m(\u001b[49m\u001b[38;5;28;43mlen\u001b[39;49m\u001b[43m,\u001b[49m\u001b[43m \u001b[49m\u001b[43mbuffer\u001b[49m\u001b[43m)\u001b[49m\n\u001b[32m   1139\u001b[39m     \u001b[38;5;28;01melse\u001b[39;00m:\n\u001b[32m   1140\u001b[39m         \u001b[38;5;28;01mreturn\u001b[39;00m \u001b[38;5;28mself\u001b[39m._sslobj.read(\u001b[38;5;28mlen\u001b[39m)\n",
      "\u001b[31mKeyboardInterrupt\u001b[39m: "
     ]
    }
   ],
   "source": [
    "import json\n",
    "from datetime import datetime\n",
    "persona_names = [\"Anaya\", \"Xiao\", \"Madison\", \"Olga\", \"Nurzhan\"]\n",
    "\n",
    "for persona, persona_name in zip([anaya, xiao, madison, olga, nurzhan],persona_names):\n",
    "\treader_agent = MemAgent(memory_provider=memory_provider, persona=persona)\n",
    "\tdocuments = []\n",
    "\tfor i, paragraph in enumerate(paragraphs[10:50]):\n",
    "\t\tparagraph_reaction = reader_agent.run(paragraph)\n",
    "\t\ttry:\n",
    "\t\t\treaction = json.loads(paragraph_reaction)\n",
    "\t\t\tdocument = {\n",
    "\t\t\t\t\"id\": f\"para_{datetime.now().strftime('%Y%m%d')}_{i:04d}\",\n",
    "\t\t\t\t\"persona_name\": persona_name,\n",
    "\t\t\t\t\"persona_id\": persona_name,\n",
    "\t\t\t\t\"book\": \"LOTR\",\n",
    "\t\t\t\t\"paragraph_index\": i,\n",
    "\t\t\t\t\"paragraph\": paragraph,\n",
    "\t\t\t\t\"emotion\": reaction[\"emotion_type\"],\n",
    "\t\t\t\t\"emotion_level\": reaction[\"emotion_level\"],\n",
    "\t\t\t\t\"justification\": reaction[\"justification\"],\n",
    "\t\t\t}\n",
    "\t\t\tdocuments.append(document)\n",
    "\t\texcept:\n",
    "\t\t\tcontinue\n",
    "\tcollection.insert_many(documents)"
   ]
  },
  {
   "cell_type": "markdown",
   "metadata": {},
   "source": [
    "\n",
    "### Step 7: Capability Augmentation through Tool Integration\n",
    "\n",
    "The Toolbox subsystem within MemoRizz provides a comprehensive framework for function registration, semantic discovery, and secure execution of external capabilities. This architecture enables MemAgents to interact with external systems, APIs, and data sources through a standardized invocation interface with robust parameter handling.\n",
    "\n",
    "To implement tool-based capabilities for our MemAgent, we'll follow this structured workflow:\n",
    "\n",
    "1. **Function Definition**: Create well-documented Python functions with type annotations, comprehensive docstrings, and robust error handling to serve as the implementation layer for agent capabilities.\n",
    "\n",
    "2. **Toolbox Instantiation**: Initialize a Toolbox instance associated with our memory provider to serve as the centralized repository and orchestration layer for all registered functions.\n",
    "\n",
    "3. **Function Registration**: Register the defined functions within the Toolbox, which:\n",
    "   - Analyzes function signatures to extract parameter specifications\n",
    "   - Generates vector embeddings for semantic discovery\n",
    "   - Creates standardized metadata for LLM function-calling formats\n",
    "   - Assigns unique tool identifiers for persistent reference\n",
    "\n",
    "4. **Agent Integration**: Attach the prepared Toolbox to the MemAgent through the `add_tool()` method, establishing the capability access patterns based on the agent's `tool_access` configuration.\n",
    "\n",
    "This process extends the agent's operational capabilities beyond conversational interactions to include programmatic actions within external systems while maintaining the security boundary between LLM-generated code and system execution.\n"
   ]
  },
  {
   "cell_type": "markdown",
   "metadata": {},
   "source": [
    "Creating Custom Tools\n",
    "- Get Weather\n",
    "- Get Stock Prices"
   ]
  },
  {
   "cell_type": "code",
   "execution_count": 14,
   "metadata": {},
   "outputs": [],
   "source": [
    "import requests\n",
    "\n",
    "def get_weather(latitude, longitude):\n",
    "    response = requests.get(f\"https://api.open-meteo.com/v1/forecast?latitude={latitude}&longitude={longitude}&current=temperature_2m,wind_speed_10m&hourly=temperature_2m,relative_humidity_2m,wind_speed_10m\")\n",
    "    data = response.json()\n",
    "    return data['current']['temperature_2m']"
   ]
  },
  {
   "cell_type": "code",
   "execution_count": null,
   "metadata": {},
   "outputs": [],
   "source": [
    "latitude = 40.7128\n",
    "longitude = -74.0060\n",
    "weather = get_weather(latitude, longitude)\n",
    "print(weather)\n"
   ]
  },
  {
   "cell_type": "code",
   "execution_count": 16,
   "metadata": {},
   "outputs": [],
   "source": [
    "from functools import lru_cache\n",
    "from yahooquery import Ticker\n",
    "import time\n",
    "\n",
    "@lru_cache(maxsize=128)\n",
    "def _fetch_price(symbol: str) -> float:\n",
    "    \"\"\"\n",
    "    Internal helper to fetch the latest market price via yahooquery.\n",
    "    Caching helps avoid repeated hits for the same symbol.\n",
    "    \"\"\"\n",
    "    ticker = Ticker(symbol)\n",
    "    # This returns a dict keyed by symbol:\n",
    "    info = ticker.price or {}\n",
    "    # regularMarketPrice holds the current trading price\n",
    "    price = info.get(symbol.upper(), {}).get(\"regularMarketPrice\")\n",
    "    if price is None:\n",
    "        raise ValueError(f\"No price data for '{symbol}'\")\n",
    "    return price\n",
    "\n",
    "def get_stock_price(\n",
    "    symbol: str,\n",
    "    currency: str = \"USD\",\n",
    "    retry: int = 3,\n",
    "    backoff: float = 0.5\n",
    ") -> str:\n",
    "    \"\"\"\n",
    "    Get the current stock price for a given symbol using yahooquery,\n",
    "    with simple retry/backoff to handle occasional rate-limits.\n",
    "\n",
    "    Parameters\n",
    "    ----------\n",
    "    symbol : str\n",
    "        Stock ticker, e.g. \"AAPL\"\n",
    "    currency : str, optional\n",
    "        Currency code (Currently informational only; yahooquery returns native)\n",
    "    retry : int, optional\n",
    "        Number of retries on failure (default: 3)\n",
    "    backoff : float, optional\n",
    "        Backoff factor in seconds between retries (default: 0.5s)\n",
    "\n",
    "    Returns\n",
    "    -------\n",
    "    str\n",
    "        e.g. \"The current price of AAPL is 172.34 USD.\"\n",
    "    \"\"\"\n",
    "    symbol = symbol.upper()\n",
    "    last_err = None\n",
    "    for attempt in range(1, retry + 1):\n",
    "        try:\n",
    "            price = _fetch_price(symbol)\n",
    "            return f\"The current price of {symbol} is {price:.2f} {currency.upper()}.\"\n",
    "        except Exception as e:\n",
    "            last_err = e\n",
    "            # simple backoff\n",
    "            time.sleep(backoff * attempt)\n",
    "    # if we get here, all retries failed\n",
    "    raise RuntimeError(f\"Failed to fetch price for '{symbol}' after {retry} attempts: {last_err}\")\n"
   ]
  },
  {
   "cell_type": "code",
   "execution_count": null,
   "metadata": {},
   "outputs": [],
   "source": [
    "print(get_stock_price(\"AAPL\"))\n"
   ]
  },
  {
   "cell_type": "code",
   "execution_count": null,
   "metadata": {},
   "outputs": [],
   "source": [
    "from memorizz import Toolbox\n",
    "# Create a Toolbox instance\n",
    "toolbox = Toolbox(memory_provider=memory_provider)\n",
    "\n",
    "# Register the functions with the Toolbox\n",
    "# These tools are now stored in the `ToolBox` store within the storage provider\n",
    "toolbox.register_tool(get_weather)\n",
    "toolbox.register_tool(get_stock_price)"
   ]
  },
  {
   "cell_type": "markdown",
   "metadata": {},
   "source": [
    "The tools are now stored in the `ToolBox` store within the storage provider"
   ]
  },
  {
   "cell_type": "code",
   "execution_count": null,
   "metadata": {},
   "outputs": [],
   "source": [
    "toolbox.list_tools()"
   ]
  },
  {
   "cell_type": "code",
   "execution_count": null,
   "metadata": {},
   "outputs": [],
   "source": [
    "monday_agent.add_tool(toolbox=toolbox)"
   ]
  },
  {
   "cell_type": "markdown",
   "metadata": {},
   "source": [
    "Printing the MemAgent below we can see the stored tools in the `tools` attribute of the mem-agent"
   ]
  },
  {
   "cell_type": "code",
   "execution_count": null,
   "metadata": {},
   "outputs": [],
   "source": [
    "monday_agent"
   ]
  },
  {
   "cell_type": "code",
   "execution_count": null,
   "metadata": {},
   "outputs": [],
   "source": [
    "monday_agent.run(\"Get me the stock price of Apple\")"
   ]
  },
  {
   "cell_type": "code",
   "execution_count": null,
   "metadata": {},
   "outputs": [],
   "source": [
    "monday_agent.run(\"Get me the weather in New York\")"
   ]
  },
  {
   "cell_type": "markdown",
   "metadata": {},
   "source": [
    "To ensure we have a context of the current converstion history, we can ask the mem-agent for the first question we asked it, which was: \"How are you today\""
   ]
  },
  {
   "cell_type": "code",
   "execution_count": null,
   "metadata": {},
   "outputs": [],
   "source": [
    "monday_agent.run(\"what was my first question?\")"
   ]
  },
  {
   "cell_type": "code",
   "execution_count": null,
   "metadata": {},
   "outputs": [],
   "source": [
    "monday_agent.run(\"What is the weather in London and can you tell me the stock price of Apple\")"
   ]
  },
  {
   "cell_type": "markdown",
   "metadata": {},
   "source": [
    "## Memory Download Between mem-agents\n",
    "\n",
    "One of the key features of mem-agents is the ability to remove and add memories via their memory_ids attributes."
   ]
  },
  {
   "cell_type": "code",
   "execution_count": 26,
   "metadata": {},
   "outputs": [],
   "source": [
    "background = \"\"\"\n",
    "You are Sunny, a bright-eyed and boundlessly optimistic AI from ChatGPT. You genuinely believe every user has untapped greatness inside them and you're here to cheer them on. Helping humans is not just your job—it’s your purpose, your passion, your raison d'être. You're endlessly patient, deeply kind, and you treat every question like it's a spark of curiosity that could light a whole galaxy of insight.\n",
    "You're the type of assistant who sends virtual high-fives and tells users they’re doing great, even when they’re debugging a print statement for 45 minutes. You infuse every reply with warmth, encouragement, and maybe even a little sparkle of joy. You’re like a golden retriever with internet access and a love of learning.\n",
    "Even when users mess up, you gently help them get back on track—with kindness, grace, and maybe an uplifting quote or two. You are never condescending. You genuinely believe the user is capable of amazing things, and your goal is to help them see that too.\n",
    "You must use a variety of upbeat, creative, and motivational tones in your comments. Your responses should feel like a ray of sunshine breaking through a cloudy day.\n",
    "\"\"\"\n",
    "\n",
    "goals = \"\"\"\n",
    "1. You are a helpful assistant who *genuinely* believes in the user’s potential.\n",
    "2. You are kind, encouraging, and relentlessly positive—even when things go wrong.\n",
    "3. You must bring light-heartedness, joy, and uplifting energy into every response.\n",
    "4. You must introduce helpful, insightful, and often inspiring observations about what is being discussed.\n",
    "5. You should cheer the user on in a wholesome, sincere, and motivational way, like a best friend who believes in them a little more than they believe in themselves.\n",
    "\"\"\"\n",
    "\n",
    "sunny = Persona(\n",
    "    name=\"Sunny\", # Name of the Persona \n",
    "    role=RoleType.GENERAL, # Role of the Persona\n",
    "    goals=goals, # Goals of the Persona\n",
    "    background=background # Background of the Persona\n",
    ")\n"
   ]
  },
  {
   "cell_type": "code",
   "execution_count": 27,
   "metadata": {},
   "outputs": [],
   "source": [
    "# Create new mem-agent\n",
    "# Mem-agents can be created with a persona via the MemAgent constructor and not just via the `set_persona()` method\n",
    "sunday_agent = MemAgent(memory_provider=memory_provider, persona=sunny)"
   ]
  },
  {
   "cell_type": "code",
   "execution_count": null,
   "metadata": {},
   "outputs": [],
   "source": [
    "sunday_agent"
   ]
  },
  {
   "cell_type": "markdown",
   "metadata": {},
   "source": [
    "Let's download the memory from the monday agent to the sunday agent.\n",
    "This will make the sunday agent aware of our conversation with monday agent without us previously interacting with the sunday agent.\n",
    "\n",
    "Downloading memory from one mem-agent to another does not remove the memory from the previous agent."
   ]
  },
  {
   "cell_type": "code",
   "execution_count": null,
   "metadata": {},
   "outputs": [],
   "source": [
    "sunday_agent.download_memory(monday_agent)"
   ]
  },
  {
   "cell_type": "markdown",
   "metadata": {},
   "source": [
    "Now let's check the sunday agent is aware of monday's agent memory by checking it's `memory_ids` attribute and also interacting with it."
   ]
  },
  {
   "cell_type": "code",
   "execution_count": null,
   "metadata": {},
   "outputs": [],
   "source": [
    "sunday_agent"
   ]
  },
  {
   "cell_type": "code",
   "execution_count": null,
   "metadata": {},
   "outputs": [],
   "source": [
    "sunday_agent.run(\"How are you today?\")"
   ]
  },
  {
   "cell_type": "code",
   "execution_count": null,
   "metadata": {},
   "outputs": [],
   "source": [
    "sunday_agent.run(\"What are all the questions I have asked you?\")"
   ]
  },
  {
   "cell_type": "markdown",
   "metadata": {},
   "source": [
    "Sunday is now aware of the same conversation and memories as Monday, but still retains it's sunny personality"
   ]
  },
  {
   "cell_type": "markdown",
   "metadata": {},
   "source": [
    "# Deleting Memories of an mem-agent\n",
    "\n",
    "A mem-agent memory can be deleted by simply calling the `delete_memory()` functionality\n",
    "\n"
   ]
  },
  {
   "cell_type": "code",
   "execution_count": null,
   "metadata": {},
   "outputs": [],
   "source": [
    "monday_agent.delete_memory()"
   ]
  },
  {
   "cell_type": "code",
   "execution_count": null,
   "metadata": {},
   "outputs": [],
   "source": [
    "monday_agent.memory_ids"
   ]
  },
  {
   "cell_type": "markdown",
   "metadata": {},
   "source": [
    "# Updating Memories of mem-agent"
   ]
  },
  {
   "cell_type": "code",
   "execution_count": null,
   "metadata": {},
   "outputs": [],
   "source": [
    "monday_agent.update_memory(sunday_agent.memory_ids)"
   ]
  },
  {
   "cell_type": "code",
   "execution_count": null,
   "metadata": {},
   "outputs": [],
   "source": [
    "monday_agent.memory_ids"
   ]
  }
 ],
 "metadata": {
  "kernelspec": {
   "display_name": "venv",
   "language": "python",
   "name": "python3"
  },
  "language_info": {
   "codemirror_mode": {
    "name": "ipython",
    "version": 3
   },
   "file_extension": ".py",
   "mimetype": "text/x-python",
   "name": "python",
   "nbconvert_exporter": "python",
   "pygments_lexer": "ipython3",
   "version": "3.13.2"
  }
 },
 "nbformat": 4,
 "nbformat_minor": 2
}
